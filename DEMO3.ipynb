{
  "nbformat": 4,
  "nbformat_minor": 0,
  "metadata": {
    "colab": {
      "provenance": [],
      "authorship_tag": "ABX9TyMS1kcSmgsx0V2nhd7h0Lf3",
      "include_colab_link": true
    },
    "kernelspec": {
      "name": "python3",
      "display_name": "Python 3"
    },
    "language_info": {
      "name": "python"
    }
  },
  "cells": [
    {
      "cell_type": "markdown",
      "metadata": {
        "id": "view-in-github",
        "colab_type": "text"
      },
      "source": [
        "<a href=\"https://colab.research.google.com/github/medroso-paul/CPE009A-OOP/blob/main/DEMO3.ipynb\" target=\"_parent\"><img src=\"https://colab.research.google.com/assets/colab-badge.svg\" alt=\"Open In Colab\"/></a>"
      ]
    },
    {
      "cell_type": "code",
      "execution_count": null,
      "metadata": {
        "colab": {
          "base_uri": "https://localhost:8080/"
        },
        "id": "hLHzBVvhHe_A",
        "outputId": "2bfdab5a-8bc7-4cb8-9a2a-c35a4cddfa98"
      },
      "outputs": [
        {
          "output_type": "stream",
          "name": "stdout",
          "text": [
            "a and b are equal\n"
          ]
        }
      ],
      "source": [
        "#Elif Statement\n",
        "a=12\n",
        "b=12\n",
        "if b>a:\n",
        "  print(\"b is greater than a\")\n",
        "elif a==b:\n",
        "    print(\"a and b are equal\")"
      ]
    },
    {
      "cell_type": "code",
      "source": [
        "#if statement\n",
        "a=12\n",
        "b=100\n",
        "if b>a:\n",
        "  print(\"b is greater than a\")"
      ],
      "metadata": {
        "colab": {
          "base_uri": "https://localhost:8080/"
        },
        "id": "YiJ8oQI8Qj6v",
        "outputId": "dbd9cd95-afa8-47da-9400-de3a7fa7f088"
      },
      "execution_count": null,
      "outputs": [
        {
          "output_type": "stream",
          "name": "stdout",
          "text": [
            "b is greater than a\n"
          ]
        }
      ]
    },
    {
      "cell_type": "code",
      "source": [
        "#Else statement\n",
        "a=200\n",
        "b=33\n",
        "if b>a:\n",
        "  print(\"b is greater than a\")\n",
        "elif a==b:\n",
        "  print(\"a and b are equal\")\n",
        "else:\n",
        "  print(\"a is greater than b\")"
      ],
      "metadata": {
        "colab": {
          "base_uri": "https://localhost:8080/"
        },
        "id": "p2NRwpY8Qz3H",
        "outputId": "c82df7b9-d011-4c6d-ed08-67386a6bcd66"
      },
      "execution_count": null,
      "outputs": [
        {
          "output_type": "stream",
          "name": "stdout",
          "text": [
            "a is greater than b\n"
          ]
        }
      ]
    },
    {
      "cell_type": "code",
      "source": [
        "#Short hand if statement\n",
        "if a>b: print(\"a is greater than b\")"
      ],
      "metadata": {
        "colab": {
          "base_uri": "https://localhost:8080/"
        },
        "id": "-aZlRxzDSXZQ",
        "outputId": "1d3d533e-bfe1-4a02-934b-41abb0cfe314"
      },
      "execution_count": null,
      "outputs": [
        {
          "output_type": "stream",
          "name": "stdout",
          "text": [
            "a is greater than b\n"
          ]
        }
      ]
    },
    {
      "cell_type": "code",
      "source": [
        "#Short hand if...Else statement\n",
        "a=2\n",
        "b=330\n",
        "print(\"A\") if a>b else print(\"B\")"
      ],
      "metadata": {
        "colab": {
          "base_uri": "https://localhost:8080/"
        },
        "id": "MQhrhNDJTEBA",
        "outputId": "9e4c4708-c760-493b-8638-c6d01c0872e0"
      },
      "execution_count": null,
      "outputs": [
        {
          "output_type": "stream",
          "name": "stdout",
          "text": [
            "B\n"
          ]
        }
      ]
    },
    {
      "cell_type": "code",
      "source": [
        "#And both conditions are true\n",
        "a=200\n",
        "b=33\n",
        "c=500\n",
        "if a>b and c>a:\n",
        "  print(\"Both conditions are True\")"
      ],
      "metadata": {
        "colab": {
          "base_uri": "https://localhost:8080/"
        },
        "id": "RCp72AnUUDhY",
        "outputId": "8a6a82aa-102a-4576-86a6-75bbcc3f54c6"
      },
      "execution_count": null,
      "outputs": [
        {
          "output_type": "stream",
          "name": "stdout",
          "text": [
            "Both conditions are True\n"
          ]
        }
      ]
    },
    {
      "cell_type": "code",
      "source": [
        "#Or-at least one of the conditions is true\n",
        "a=200\n",
        "b=33\n",
        "c=500\n",
        "if a>b or a>c:\n",
        "  print(\"At least one of the conditions is True\")"
      ],
      "metadata": {
        "colab": {
          "base_uri": "https://localhost:8080/"
        },
        "id": "ID3pCkDbUl8P",
        "outputId": "4616bb80-1a42-4cfc-96ba-c93ae92689bd"
      },
      "execution_count": null,
      "outputs": [
        {
          "output_type": "stream",
          "name": "stdout",
          "text": [
            "At least one of the conditions is True\n"
          ]
        }
      ]
    },
    {
      "cell_type": "code",
      "source": [
        "#Nested if\n",
        "x=51\n",
        "if x>10:\n",
        "  print(\"Above 10,\")\n",
        "if x>20:\n",
        "  print(\"and also above 20\")\n",
        "if x>30:\n",
        "  print(\"and also above 30\")\n",
        "if x>40:\n",
        "  print(\"and also above 40\")\n",
        "if x>50:\n",
        "  print(\"and also above 50\")\n",
        "elif x<50:\n",
        "  print(\"but not above 50\")\n",
        "elif x<40:\n",
        "  print(\"but not above 40\")\n",
        "elif x<30:\n",
        "  print(\"but not above 30\")\n",
        "else:\n",
        "  print(\"but not above 20\")"
      ],
      "metadata": {
        "colab": {
          "base_uri": "https://localhost:8080/"
        },
        "id": "chtqjiXDVLxg",
        "outputId": "1c957217-6146-4291-f92b-1e038cbe4c32"
      },
      "execution_count": null,
      "outputs": [
        {
          "output_type": "stream",
          "name": "stdout",
          "text": [
            "Above 10,\n",
            "and also above 20\n",
            "and also above 30\n",
            "and also above 40\n",
            "and also above 50\n"
          ]
        }
      ]
    },
    {
      "cell_type": "code",
      "source": [
        "#Write a program that determines if the input age is qualified to vote or not. The qualifying age is 18 years old and above\n",
        "print(\"Input age\")\n",
        "age=input()\n",
        "if(int(age)>=18):\n",
        "  print(\"You are qualified to vote\")\n",
        "else:\n",
        "  print(\"You are not qualified to vote\")"
      ],
      "metadata": {
        "colab": {
          "base_uri": "https://localhost:8080/"
        },
        "id": "y9BDbxPak6AI",
        "outputId": "b6c31938-5f83-4118-ea9e-35e3556ea958"
      },
      "execution_count": 31,
      "outputs": [
        {
          "output_type": "stream",
          "name": "stdout",
          "text": [
            "Input age\n",
            "19\n",
            "You are qualified to vote\n"
          ]
        }
      ]
    },
    {
      "cell_type": "code",
      "source": [
        "#Write a program that determines if the imput number id POSITIVE, NEGATIVE or ZERO\n",
        "print(\"Input number\")\n",
        "n=input()\n",
        "if(int(n)>=1): print(\"Positive\")\n",
        "elif (int(n)<0): print(\"Negative\")\n",
        "else:\n",
        "  print(\"0\")"
      ],
      "metadata": {
        "colab": {
          "base_uri": "https://localhost:8080/"
        },
        "id": "6D-PYNj9lAv4",
        "outputId": "d03a2a9a-53c7-41ee-b575-34624c8ffeb3"
      },
      "execution_count": 32,
      "outputs": [
        {
          "output_type": "stream",
          "name": "stdout",
          "text": [
            "Input number\n",
            "59\n",
            "Positive\n"
          ]
        }
      ]
    },
    {
      "cell_type": "code",
      "source": [
        "#Example 3\n",
        "print(\"Input Grade\")\n",
        "grade=input()\n",
        "if(int(grade)>=70):\n",
        "  print(\"PASSED\")\n",
        "elif(int(grade)>=69):\n",
        "  print(\"REMEDIAL\")\n",
        "elif(int(grade)>=65):\n",
        "  print(\"REMEDIAL\")\n",
        "elif(int(grade)>=64):\n",
        "  print(\"FAILED\")\n",
        "elif(int(grade)>=0):\n",
        "  print(\"FAILED\")"
      ],
      "metadata": {
        "colab": {
          "base_uri": "https://localhost:8080/"
        },
        "id": "tpGlAFUUlG2w",
        "outputId": "b2084290-be17-4e74-ec39-436dd414dd43"
      },
      "execution_count": 33,
      "outputs": [
        {
          "output_type": "stream",
          "name": "stdout",
          "text": [
            "Input Grade\n",
            "70\n",
            "PASSED\n"
          ]
        }
      ]
    }
  ]
}