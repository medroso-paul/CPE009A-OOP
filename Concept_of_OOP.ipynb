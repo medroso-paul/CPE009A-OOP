{
  "nbformat": 4,
  "nbformat_minor": 0,
  "metadata": {
    "colab": {
      "provenance": [],
      "authorship_tag": "ABX9TyPSvKv6f91kDXQDflZiX+kY",
      "include_colab_link": true
    },
    "kernelspec": {
      "name": "python3",
      "display_name": "Python 3"
    },
    "language_info": {
      "name": "python"
    }
  },
  "cells": [
    {
      "cell_type": "markdown",
      "metadata": {
        "id": "view-in-github",
        "colab_type": "text"
      },
      "source": [
        "<a href=\"https://colab.research.google.com/github/medroso-paul/CPE009A-OOP/blob/main/Concept_of_OOP.ipynb\" target=\"_parent\"><img src=\"https://colab.research.google.com/assets/colab-badge.svg\" alt=\"Open In Colab\"/></a>"
      ]
    },
    {
      "cell_type": "code",
      "execution_count": null,
      "metadata": {
        "id": "d4QEPaO2a7xf"
      },
      "outputs": [],
      "source": [
        "class Birds:\n",
        "  def __init__(self_bird_name):\n",
        "    def flying_birds(self):\n",
        "      print(f)"
      ]
    },
    {
      "cell_type": "code",
      "source": [
        "class foo:\n",
        "  def __init__(self,a,b):\n",
        "    self.a=a\n",
        "    self.b=b\n",
        "  def add(self):\n",
        "    return self.a + self.b\n",
        "foo_object=foo(3,4)\n",
        "foo_object.add()"
      ],
      "metadata": {
        "colab": {
          "base_uri": "https://localhost:8080/"
        },
        "id": "ySoTyVyvdznb",
        "outputId": "23f20dfa-61a0-4325-a4ad-eb8ad62537ba"
      },
      "execution_count": 1,
      "outputs": [
        {
          "output_type": "execute_result",
          "data": {
            "text/plain": [
              "7"
            ]
          },
          "metadata": {},
          "execution_count": 1
        }
      ]
    },
    {
      "cell_type": "code",
      "source": [
        "class Counter:\n",
        "  def __init__(self):\n",
        "    self.current=0\n",
        "\n",
        "  def increment(self):\n",
        "    self.current +=1\n",
        "\n",
        "  def value(self):\n",
        "    return self.current\n",
        "\n",
        "  def reset(self):\n",
        "    self.current=0"
      ],
      "metadata": {
        "id": "TJ5EnvwZecrj"
      },
      "execution_count": 10,
      "outputs": []
    },
    {
      "cell_type": "code",
      "source": [
        "class RegularPolygon:\n",
        "  def __init__(self,side):\n",
        "    self.side=side\n",
        "class Square(RegularPolygon):\n",
        "  def area(self):\n",
        "    return self.side*self.side\n",
        "class EquilateralTriangle(RegularPolygon):\n",
        "  def area(self):\n",
        "    return self.side*self.side*0.433\n",
        "\n",
        "square=Square(4)\n",
        "print(square.area())\n",
        "equiltriangle=EquilateralTriangle(4)\n",
        "print(equiltriangle.area())"
      ],
      "metadata": {
        "colab": {
          "base_uri": "https://localhost:8080/"
        },
        "id": "W-qoa_A6gH2M",
        "outputId": "56bb87c5-d3d1-4441-e9f5-d84681151376"
      },
      "execution_count": 13,
      "outputs": [
        {
          "output_type": "stream",
          "name": "stdout",
          "text": [
            "16\n",
            "6.928\n"
          ]
        }
      ]
    },
    {
      "cell_type": "code",
      "source": [
        "#Encapsulation using Mangling(double_underscore)\n",
        "class RegularPolygon:\n",
        "  def __init__(self, side):\n",
        "    self.__side=side\n",
        "  def area(self):\n",
        "    print(self.__side*self.__side)\n",
        "class Square(RegularPolygon):\n",
        "  pass\n",
        "\n",
        "\n",
        "square=Square(4)\n",
        "square.area()"
      ],
      "metadata": {
        "colab": {
          "base_uri": "https://localhost:8080/"
        },
        "id": "8M_T9o3dr554",
        "outputId": "917c9074-5111-4a59-dab5-68a53c9d5e3a"
      },
      "execution_count": 14,
      "outputs": [
        {
          "output_type": "stream",
          "name": "stdout",
          "text": [
            "16\n"
          ]
        }
      ]
    },
    {
      "cell_type": "code",
      "source": [
        "class Person:\n",
        "  def __init__(self, pre, mid, fin):\n",
        "    self.__pre=pre\n",
        "    self.__mid=mid\n",
        "    self.__fin=fin\n",
        "  def grades(self):\n",
        "    return(self.__pre + self.__mid + self.__fin)//3\n",
        "\n",
        "class std1(Person):\n",
        "  pass\n",
        "class std2(Person):\n",
        "  pass\n",
        "class std3(Person):\n",
        "  pass\n",
        "\n",
        "std1 = std1(50,60,70)\n",
        "std1.grades()\n",
        "print(\"Average of Student 1 is \", std1.grades())\n",
        "std2 = std2(60,70,80)\n",
        "std2.grades()\n",
        "print(\"Average of Student 2 is \", std2.grades())\n",
        "std3 = std3(70,80,90)\n",
        "std3.grades()\n",
        "print(\"Average of Student 3 is \", std3.grades())"
      ],
      "metadata": {
        "colab": {
          "base_uri": "https://localhost:8080/"
        },
        "id": "ZdDIrJpxvDpJ",
        "outputId": "35329cba-357c-4b44-eeb9-57efb869cf68"
      },
      "execution_count": 24,
      "outputs": [
        {
          "output_type": "stream",
          "name": "stdout",
          "text": [
            "Average of Student 1 is  60\n",
            "Average of Student 2 is  70\n",
            "Average of Student 3 is  80\n"
          ]
        }
      ]
    }
  ]
}