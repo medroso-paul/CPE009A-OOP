{
  "nbformat": 4,
  "nbformat_minor": 0,
  "metadata": {
    "colab": {
      "provenance": [],
      "authorship_tag": "ABX9TyMGKQh+eTruS85im0zdS3+7",
      "include_colab_link": true
    },
    "kernelspec": {
      "name": "python3",
      "display_name": "Python 3"
    },
    "language_info": {
      "name": "python"
    }
  },
  "cells": [
    {
      "cell_type": "markdown",
      "metadata": {
        "id": "view-in-github",
        "colab_type": "text"
      },
      "source": [
        "<a href=\"https://colab.research.google.com/github/medroso-paul/CPE009A-OOP/blob/main/Concepts_of_OOP.ipynb\" target=\"_parent\"><img src=\"https://colab.research.google.com/assets/colab-badge.svg\" alt=\"Open In Colab\"/></a>"
      ]
    },
    {
      "cell_type": "code",
      "execution_count": 2,
      "metadata": {
        "colab": {
          "base_uri": "https://localhost:8080/"
        },
        "id": "bmCoklTqXtsw",
        "outputId": "f7e9cc09-f4fd-4c8e-e185-76e1d07e8008"
      },
      "outputs": [
        {
          "output_type": "stream",
          "name": "stdout",
          "text": [
            "<__main__.car object at 0x7e9f8df3d120>\n"
          ]
        }
      ],
      "source": [
        "class car:\n",
        " pass\n",
        "obj1=car()\n",
        "print(obj1)"
      ]
    },
    {
      "cell_type": "code",
      "source": [
        "class car:\n",
        "  def __init__(self, name, color, mileage):\n",
        "    self.name=name\n",
        "    self.color=color\n",
        "    self.mileage=mileage\n",
        "obj1=car(\"BMW\",\"Red\",1000)\n",
        "obj2=car(\"Toyota\",\"Blue\",1200)\n",
        "print(obj1.name)\n",
        "print(obj1.color)\n",
        "print(obj1.mileage)\n",
        "print(obj2.mileage)"
      ],
      "metadata": {
        "colab": {
          "base_uri": "https://localhost:8080/"
        },
        "id": "C2C0sj5TjcSH",
        "outputId": "e589fb0f-f502-4ef8-cbe5-dd5d80941a00"
      },
      "execution_count": 49,
      "outputs": [
        {
          "output_type": "stream",
          "name": "stdout",
          "text": [
            "BMW\n",
            "Red\n",
            "1000\n",
            "1200\n"
          ]
        }
      ]
    },
    {
      "cell_type": "code",
      "source": [
        "class Student:\n",
        "  def __init__ (self,name,age,course,section):\n",
        "    self.name=name\n",
        "    self.age=age\n",
        "    self.course=course\n",
        "    self.section=section\n",
        "Student1=Student(\"Medroso, Paul Andrei M.\", 19, \"CPE\", \"CPE12S6\")\n",
        "print(\"My name is \", Student1.name)\n",
        "print(\"im \",Student1.age,\"years old\")\n",
        "print(\"My course is\", Student1.course)\n",
        "print(\"My section is \", Student1.section)"
      ],
      "metadata": {
        "colab": {
          "base_uri": "https://localhost:8080/"
        },
        "id": "XKoTwKt1oLvB",
        "outputId": "4af5ce64-0e7f-412a-8fe2-59bb90f4eb41"
      },
      "execution_count": 50,
      "outputs": [
        {
          "output_type": "stream",
          "name": "stdout",
          "text": [
            "My name is  Medroso, Paul Andrei M.\n",
            "im  19 years old\n",
            "My course is CPE\n",
            "My section is  CPE12S6\n"
          ]
        }
      ]
    }
  ]
}