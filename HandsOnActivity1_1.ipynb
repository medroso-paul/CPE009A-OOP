{
  "nbformat": 4,
  "nbformat_minor": 0,
  "metadata": {
    "colab": {
      "provenance": [],
      "authorship_tag": "ABX9TyNkwHBX64B+H1MmXG4rJj4t",
      "include_colab_link": true
    },
    "kernelspec": {
      "name": "python3",
      "display_name": "Python 3"
    },
    "language_info": {
      "name": "python"
    }
  },
  "cells": [
    {
      "cell_type": "markdown",
      "metadata": {
        "id": "view-in-github",
        "colab_type": "text"
      },
      "source": [
        "<a href=\"https://colab.research.google.com/github/medroso-paul/CPE009A-OOP/blob/main/HandsOnActivity1_1.ipynb\" target=\"_parent\"><img src=\"https://colab.research.google.com/assets/colab-badge.svg\" alt=\"Open In Colab\"/></a>"
      ]
    },
    {
      "cell_type": "code",
      "execution_count": 6,
      "metadata": {
        "colab": {
          "base_uri": "https://localhost:8080/"
        },
        "id": "BrM2XU-GqiGL",
        "outputId": "c9e241b0-80a6-443a-cd07-9ccaa0da7a74"
      },
      "outputs": [
        {
          "output_type": "stream",
          "name": "stdout",
          "text": [
            "enter numbers of Base\n",
            "19\n",
            "enter numbers of Height\n",
            "10\n",
            "The area of the Triangle is 95.0\n"
          ]
        }
      ],
      "source": [
        "#no.1\n",
        "print(\"enter numbers of Base\")\n",
        "b=input()\n",
        "print(\"enter numbers of Height\")\n",
        "h=input()\n",
        "A=(1/2*int(b)*int(h))\n",
        "print(\"The area of the Triangle is\", A)"
      ]
    },
    {
      "cell_type": "code",
      "source": [
        "#no.2\n",
        "def celsius_to_fahrenheit (celsius):\n",
        "  fahrenheit=(celsius * 9/5) + 32\n",
        "  return fahrenheit\n",
        "\n",
        "def main():\n",
        "  celsius=float(input(\"Enter the temperature of the Celsius: \"))\n",
        "  fahrenheit=celsius_to_fahrenheit(celsius)\n",
        "  print(\"The temperature of the Fahrenheit is: \", fahrenheit)\n",
        "\n",
        "if __name__:\n",
        "  main()"
      ],
      "metadata": {
        "colab": {
          "base_uri": "https://localhost:8080/"
        },
        "id": "kEY16WXlxhKl",
        "outputId": "64fd5cd8-2474-47f7-969a-973a6428effa"
      },
      "execution_count": 9,
      "outputs": [
        {
          "output_type": "stream",
          "name": "stdout",
          "text": [
            "Enter the temperature of the Celsius: 32\n",
            "The temperature of the Fahrenheit is:  89.6\n"
          ]
        }
      ]
    },
    {
      "cell_type": "code",
      "source": [
        "#no.3\n",
        "import math\n",
        "print(\"Input x1\")\n",
        "x1=input()\n",
        "print(\"Input y1\")\n",
        "y1=input()\n",
        "print(\"Input x2\")\n",
        "x2=input()\n",
        "print(\"Input y2\")\n",
        "y2=input()\n",
        "d=math.sqrt((int(x2)-int(x1))**2+(int(y2)-int(y1))**2)\n",
        "print(\"The Distance of the points is: \", d)"
      ],
      "metadata": {
        "colab": {
          "base_uri": "https://localhost:8080/"
        },
        "id": "AFnQQywc5uoe",
        "outputId": "58e9bbf0-14d7-47ae-97bb-c0cafc6ce1f0"
      },
      "execution_count": 18,
      "outputs": [
        {
          "output_type": "stream",
          "name": "stdout",
          "text": [
            "Input x1\n",
            "2\n",
            "Input y1\n",
            "2\n",
            "Input x2\n",
            "-3\n",
            "Input y2\n",
            "3\n",
            "The Distance of the points is:  5.0990195135927845\n"
          ]
        }
      ]
    }
  ]
}