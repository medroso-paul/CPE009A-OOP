{
  "nbformat": 4,
  "nbformat_minor": 0,
  "metadata": {
    "colab": {
      "provenance": [],
      "authorship_tag": "ABX9TyOMaykEKF7OiCFUY7J3XJ2T",
      "include_colab_link": true
    },
    "kernelspec": {
      "name": "python3",
      "display_name": "Python 3"
    },
    "language_info": {
      "name": "python"
    }
  },
  "cells": [
    {
      "cell_type": "markdown",
      "metadata": {
        "id": "view-in-github",
        "colab_type": "text"
      },
      "source": [
        "<a href=\"https://colab.research.google.com/github/medroso-paul/CPE009A-OOP/blob/main/Exercise_1.ipynb\" target=\"_parent\"><img src=\"https://colab.research.google.com/assets/colab-badge.svg\" alt=\"Open In Colab\"/></a>"
      ]
    },
    {
      "cell_type": "code",
      "execution_count": null,
      "metadata": {
        "id": "5fCDv5YGbQTu"
      },
      "outputs": [],
      "source": [
        "#Algorithm to get the perimeter and area of a rectangle\n",
        "#1. Start\n",
        "#2. Initialize l=0, w=0, A=0, P=0\n",
        "#3. input l, w, A, P\n",
        "#4. Compute for the Area and Perimeter of the Rectangle\n",
        "# A=(int(l)*int(w))\n",
        "# P=2*(int(l)+int(w))\n",
        "#5. Print \"The Area of the Rectangle is (A)\"\n",
        "#6. Print \"The Perimeter of the Rectangle is (P)\"\n",
        "#7. End"
      ]
    },
    {
      "cell_type": "code",
      "source": [
        "print(\"Input the Perimeter and Area of a Rectangle \")\n",
        "print(\"Value of Length \")\n",
        "l=input()\n",
        "print(\"Value of Width \")\n",
        "w=input()\n",
        "A=(int(l)*int(w))\n",
        "P=2*(int(l)+int(w))\n",
        "print(\"The Area of the Rectangle is \", A)\n",
        "print(\"The Perimeter of the Rectangle is \", P)"
      ],
      "metadata": {
        "colab": {
          "base_uri": "https://localhost:8080/"
        },
        "id": "5bJ-0nsDbR6I",
        "outputId": "48a9d616-e33f-42be-f96d-1bec4f83ebb8"
      },
      "execution_count": 4,
      "outputs": [
        {
          "output_type": "stream",
          "name": "stdout",
          "text": [
            "Input the Perimeter and Area of a Rectangle \n",
            "Value of Length \n",
            "10\n",
            "Value of Width \n",
            "10\n",
            "The Area of the Rectangle is  100\n",
            "The Perimeter of the Rectangle is  40\n"
          ]
        }
      ]
    },
    {
      "cell_type": "code",
      "source": [],
      "metadata": {
        "id": "aejIWJZ8bXKZ"
      },
      "execution_count": null,
      "outputs": []
    }
  ]
}