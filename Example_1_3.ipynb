{
  "nbformat": 4,
  "nbformat_minor": 0,
  "metadata": {
    "colab": {
      "provenance": [],
      "authorship_tag": "ABX9TyO3yNrAFsdpdLiXZk4c+5lV",
      "include_colab_link": true
    },
    "kernelspec": {
      "name": "python3",
      "display_name": "Python 3"
    },
    "language_info": {
      "name": "python"
    }
  },
  "cells": [
    {
      "cell_type": "markdown",
      "metadata": {
        "id": "view-in-github",
        "colab_type": "text"
      },
      "source": [
        "<a href=\"https://colab.research.google.com/github/medroso-paul/CPE009A-OOP/blob/main/Example_1_3.ipynb\" target=\"_parent\"><img src=\"https://colab.research.google.com/assets/colab-badge.svg\" alt=\"Open In Colab\"/></a>"
      ]
    },
    {
      "cell_type": "code",
      "execution_count": 1,
      "metadata": {
        "colab": {
          "base_uri": "https://localhost:8080/"
        },
        "id": "21DJ00gRckid",
        "outputId": "4b5e980f-4628-45ff-e6fc-91a27b2a462e"
      },
      "outputs": [
        {
          "output_type": "stream",
          "name": "stdout",
          "text": [
            "Input age\n",
            "19\n",
            "You are qualified to vote\n"
          ]
        }
      ],
      "source": [
        "#Write a program that determines if the input age is qualified to vote or not. The qualifying age is 18 years old and above\n",
        "print(\"Input age\")\n",
        "age=input()\n",
        "if(int(age)>=18):\n",
        "  print(\"You are qualified to vote\")\n",
        "else:\n",
        "  print(\"You are not qualified to vote\")"
      ]
    },
    {
      "cell_type": "code",
      "source": [
        "#Write a program that determines if the imput number id POSITIVE, NEGATIVE or ZERO\n",
        "print(\"Input number\")\n",
        "n=input()\n",
        "if(int(n)>=1): print(\"Positive\")\n",
        "elif (int(n)<0): print(\"Negative\")\n",
        "else:\n",
        "  print(\"0\")"
      ],
      "metadata": {
        "colab": {
          "base_uri": "https://localhost:8080/"
        },
        "id": "jMqKGpXDebj5",
        "outputId": "d89c0eba-7f77-4aeb-b942-ca0380df769e"
      },
      "execution_count": 2,
      "outputs": [
        {
          "output_type": "stream",
          "name": "stdout",
          "text": [
            "Input number\n",
            "59\n",
            "Positive\n"
          ]
        }
      ]
    },
    {
      "cell_type": "code",
      "source": [
        "#Example 3\n",
        "print(\"Input Grade\")\n",
        "grade=input()\n",
        "if(int(grade)>=70):\n",
        "  print(\"PASSED\")\n",
        "elif(int(grade)>=69):\n",
        "  print(\"REMEDIAL\")\n",
        "elif(int(grade)>=65):\n",
        "  print(\"REMEDIAL\")\n",
        "elif(int(grade)>=64):\n",
        "  print(\"FAILED\")\n",
        "elif(int(grade)>=0):\n",
        "  print(\"FAILED\")"
      ],
      "metadata": {
        "colab": {
          "base_uri": "https://localhost:8080/"
        },
        "id": "aeGb4DgGfYJZ",
        "outputId": "b32ae001-3974-4332-ed78-522a3195e790"
      },
      "execution_count": 8,
      "outputs": [
        {
          "output_type": "stream",
          "name": "stdout",
          "text": [
            "Input Grade\n",
            "0\n",
            "FAILED\n"
          ]
        }
      ]
    }
  ]
}