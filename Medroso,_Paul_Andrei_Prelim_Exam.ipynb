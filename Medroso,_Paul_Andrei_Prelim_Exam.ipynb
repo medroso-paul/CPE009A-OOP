{
  "nbformat": 4,
  "nbformat_minor": 0,
  "metadata": {
    "colab": {
      "provenance": [],
      "authorship_tag": "ABX9TyMCYAuW0464eOJVgdAANMmr",
      "include_colab_link": true
    },
    "kernelspec": {
      "name": "python3",
      "display_name": "Python 3"
    },
    "language_info": {
      "name": "python"
    }
  },
  "cells": [
    {
      "cell_type": "markdown",
      "metadata": {
        "id": "view-in-github",
        "colab_type": "text"
      },
      "source": [
        "<a href=\"https://colab.research.google.com/github/medroso-paul/CPE009A-OOP/blob/main/Medroso%2C_Paul_Andrei_Prelim_Exam.ipynb\" target=\"_parent\"><img src=\"https://colab.research.google.com/assets/colab-badge.svg\" alt=\"Open In Colab\"/></a>"
      ]
    },
    {
      "cell_type": "code",
      "source": [
        "fullname=input(\"Enter your Fullname: \")\n",
        "age=input(\"Enter your age: \")\n",
        "print(\"Fullname and age: \"+fullname+\" \"+\"and\"+\" \"+age)"
      ],
      "metadata": {
        "colab": {
          "base_uri": "https://localhost:8080/"
        },
        "id": "_sF5wVWWwMOG",
        "outputId": "8f63b98e-0111-48a5-a019-819229c93ccc"
      },
      "execution_count": 22,
      "outputs": [
        {
          "output_type": "stream",
          "name": "stdout",
          "text": [
            "Enter your Fullname: Medroso, Paul Andrei M.\n",
            "Enter your age: 19\n",
            "Fullname and age: Medroso, Paul Andrei M. and 19\n"
          ]
        }
      ]
    }
  ]
}