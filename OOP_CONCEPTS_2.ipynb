{
  "nbformat": 4,
  "nbformat_minor": 0,
  "metadata": {
    "colab": {
      "provenance": [],
      "authorship_tag": "ABX9TyPSnFMyL/f5HB11H6outbY4",
      "include_colab_link": true
    },
    "kernelspec": {
      "name": "python3",
      "display_name": "Python 3"
    },
    "language_info": {
      "name": "python"
    }
  },
  "cells": [
    {
      "cell_type": "markdown",
      "metadata": {
        "id": "view-in-github",
        "colab_type": "text"
      },
      "source": [
        "<a href=\"https://colab.research.google.com/github/medroso-paul/CPE009A-OOP/blob/main/OOP_CONCEPTS_2.ipynb\" target=\"_parent\"><img src=\"https://colab.research.google.com/assets/colab-badge.svg\" alt=\"Open In Colab\"/></a>"
      ]
    },
    {
      "cell_type": "code",
      "execution_count": 17,
      "metadata": {
        "colab": {
          "base_uri": "https://localhost:8080/"
        },
        "id": "mg9wTu7SfUhY",
        "outputId": "6f1a1a3f-0af5-46bb-ffb7-d16eed047c83"
      },
      "outputs": [
        {
          "output_type": "stream",
          "name": "stdout",
          "text": [
            "The sides of a Pentagon is 5\n",
            "The sides of a Hexagon is 6\n",
            "The sides of a Nonagon is 9\n",
            "The sides of a Decagon is 10\n",
            "The sides of a Octagon is 8\n"
          ]
        }
      ],
      "source": [
        "class shapes:\n",
        "  def __init__(self, sides):\n",
        "    self.__sides=sides\n",
        "  def sides(self):\n",
        "    return(self.__sides)\n",
        "\n",
        "class pentagon(shapes):\n",
        "  pass\n",
        "class hexagon(shapes):\n",
        "  pass\n",
        "class nonagon(shapes):\n",
        "  pass\n",
        "class decagon(shapes):\n",
        "  pass\n",
        "class octagon(shapes):\n",
        "  pass\n",
        "\n",
        "pentagon = pentagon(5)\n",
        "pentagon.sides()\n",
        "print(\"The sides of a Pentagon is\", pentagon.sides())\n",
        "hexagon = hexagon(6)\n",
        "hexagon.sides()\n",
        "print(\"The sides of a Hexagon is\", hexagon.sides())\n",
        "nonagon = nonagon(9)\n",
        "nonagon.sides()\n",
        "print(\"The sides of a Nonagon is\", nonagon.sides())\n",
        "decagon = decagon(10)\n",
        "decagon.sides()\n",
        "print(\"The sides of a Decagon is\", decagon.sides())\n",
        "octagon = octagon(8)\n",
        "octagon.sides()\n",
        "print(\"The sides of a Octagon is\", octagon.sides())"
      ]
    }
  ]
}